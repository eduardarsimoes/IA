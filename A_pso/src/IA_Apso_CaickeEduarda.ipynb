{
  "nbformat": 4,
  "nbformat_minor": 0,
  "metadata": {
    "colab": {
      "name": "IA_Apso_CaickeEduarda.ipynb",
      "provenance": [],
      "collapsed_sections": [
        "cPSZGmvu59lX"
      ],
      "authorship_tag": "ABX9TyP9PbVLbYeTnoBhOOccsqng",
      "include_colab_link": true
    },
    "kernelspec": {
      "name": "python3",
      "display_name": "Python 3"
    },
    "language_info": {
      "name": "python"
    }
  },
  "cells": [
    {
      "cell_type": "markdown",
      "metadata": {
        "id": "view-in-github",
        "colab_type": "text"
      },
      "source": [
        "<a href=\"https://colab.research.google.com/github/eduardarsimoes/IA_Algoritmos/blob/main/A_pso/src/IA_Apso_CaickeEduarda.ipynb\" target=\"_parent\"><img src=\"https://colab.research.google.com/assets/colab-badge.svg\" alt=\"Open In Colab\"/></a>"
      ]
    },
    {
      "cell_type": "markdown",
      "metadata": {
        "id": "cPSZGmvu59lX"
      },
      "source": [
        "# **TRABALHO 3: Algoritmo PSO** \n",
        "\n",
        "---\n",
        "\n",
        "#### INTELIGÊNCIA ARTIFICIAL 2020/2 EAD - Caicke Pinheiro e Eduarda Simões\n"
      ]
    },
    {
      "cell_type": "markdown",
      "metadata": {
        "id": "f_VS7rJH-rz4"
      },
      "source": [
        "## Importando as bibliotecas"
      ]
    },
    {
      "cell_type": "code",
      "metadata": {
        "id": "coyfs0st63BK"
      },
      "source": [
        "import pandas as pd\n",
        "import matplotlib.pyplot as plt\n",
        "import numpy as np\n",
        "%matplotlib inline"
      ],
      "execution_count": 7,
      "outputs": []
    },
    {
      "cell_type": "code",
      "metadata": {
        "id": "tTYSu7pF6BLt"
      },
      "source": [
        "import random\n",
        "import math\n",
        "import statistics"
      ],
      "execution_count": 9,
      "outputs": []
    },
    {
      "cell_type": "markdown",
      "metadata": {
        "id": "I92YHm8F-wD3"
      },
      "source": [
        "## Implementação"
      ]
    },
    {
      "cell_type": "markdown",
      "metadata": {
        "id": "l_F2wDnl-0a3"
      },
      "source": [
        "### Classe partícula e suas funções"
      ]
    },
    {
      "cell_type": "code",
      "metadata": {
        "id": "kv_igJOK5wa2"
      },
      "source": [
        "class Particula:\n",
        "\n",
        "  def __init__(self, vel):\n",
        "    self.pos = [random.randint(-512, 512), random.randint(-512, 512)]\n",
        "    self.melhor_pos = self.pos\n",
        "    self.aptidao = math.inf\n",
        "    self.melhor_aptidao = math.inf\n",
        "    self.vel = vel\n",
        "\n",
        "\n",
        "  def calcula_aptidao(self):\n",
        "    self.aptidao = fitness(self.pos)\n",
        "\n",
        "    if self.aptidao < self.melhor_aptidao:\n",
        "      self.melhor_aptidao = self.aptidao\n",
        "      self.melhor_pos = self.pos\n",
        "\n",
        "\n",
        "  def atualiza_posicao(self):\n",
        "    for i in range(0, 2):\n",
        "      self.pos[i] = self.pos[i]+self.vel[i]\n",
        "\n",
        "      if self.pos[i] > 512:\n",
        "        self.pos[i] = 512\n",
        "\n",
        "      if self.pos[i] < -512:\n",
        "        self.pos[i] = -512\n",
        "\n",
        "\n",
        "  def atualiza_velocidade(self, pos_best_g):\n",
        "    # motivo da escolha: https://www.researchgate.net/publication/309658844_Inertia_weight_control_strategies_for_particle_swarm_optimization_Too_much_momentum_not_enough_analysis\n",
        "    \n",
        "    # valores\n",
        "    w = 0.729844\n",
        "    c1 = 1  # indicado o cognitivo ser abaixo do social    \n",
        "    c2 = 2        \n",
        "\n",
        "    for i in range(0, 2):\n",
        "      r1 = random.random()\n",
        "      r2 = random.random()\n",
        "\n",
        "      v_local = c1*r1*(self.melhor_pos[i]-self.pos[i])\n",
        "      v_global = c2*r2*(pos_best_g[i]-self.pos[i])\n",
        "      self.vel[i] = w*self.vel[i]+v_local+v_global"
      ],
      "execution_count": 10,
      "outputs": []
    },
    {
      "cell_type": "markdown",
      "metadata": {
        "id": "75YLxHBu-434"
      },
      "source": [
        "### Main"
      ]
    },
    {
      "cell_type": "code",
      "metadata": {
        "id": "XY19S16r7TSs"
      },
      "source": [
        "def fitness(pos):\n",
        "  aptidao = -(pos[1] + 47) * math.sin(math.sqrt(abs((pos[0]/2)+(pos[1]+47)))) - pos[0]*math.sin(math.sqrt(abs(pos[0] - (pos[1]+47))))\n",
        "  return aptidao"
      ],
      "execution_count": 11,
      "outputs": []
    },
    {
      "cell_type": "code",
      "metadata": {
        "id": "lgPeXzoaBaDK"
      },
      "source": [
        "def show_resultado(resultados):\n",
        "    k = 1\n",
        "    q = 0\n",
        "    print(\"-----------------------TABELA-----------------------\")\n",
        "    print(\"EXECUÇÃO |   MELHOR   |    MÉDIA   | DESVIO PADRÃO \")\n",
        "\n",
        "    cont_iteracoes = 3\n",
        "    melhor_aptidao = math.inf\n",
        "    soma_aptidao   = 0\n",
        "    aptidoes = []\n",
        "    melhores_aptidoes = []\n",
        "    medias = []\n",
        "\n",
        "    for item in resultados:\n",
        "      aptidoes.append(item[3])\n",
        "      q+=1\n",
        "      soma_aptidao += item[3]\n",
        "      if melhor_aptidao > item[3]:\n",
        "          melhor_aptidao = item[3]\n",
        "      if q == 6:\n",
        "        media = soma_aptidao / 6\n",
        "        if k == 10:\n",
        "          print(\"   {}    |  {:.3f}  |  {:.3f}  |    {:.3f}  \".format(k, melhor_aptidao, media, statistics.stdev(aptidoes)))\n",
        "        else:\n",
        "          print(\"   0{}    |  {:.3f}  |  {:.3f}  |    {:.3f}  \".format(k, melhor_aptidao, media, statistics.stdev(aptidoes)))\n",
        "        melhores_aptidoes.append(melhor_aptidao)\n",
        "        medias.append(media)\n",
        "        q = 0\n",
        "        k += 1\n",
        "        soma_aptidao = 0\n",
        "        melhor_aptidao = math.inf\n",
        "        aptidoes.clear()\n",
        "        \n",
        "    grafico(melhores_aptidoes, medias)"
      ],
      "execution_count": 14,
      "outputs": []
    },
    {
      "cell_type": "code",
      "metadata": {
        "id": "NYXlFn7odSod"
      },
      "source": [
        "def grafico(aptidoes, medias):\n",
        "\n",
        "   aptidao = np.array(aptidoes)\n",
        "   media = np.array(medias)\n",
        "   plt.plot(aptidao, 'g--', media, 'bs')\n",
        "\n",
        "   plt.show()"
      ],
      "execution_count": 17,
      "outputs": []
    },
    {
      "cell_type": "code",
      "metadata": {
        "colab": {
          "base_uri": "https://localhost:8080/",
          "height": 469
        },
        "id": "sqkmdts7dJ0F",
        "outputId": "ebb85aed-bf33-4a93-9af5-2f8b9d527938"
      },
      "source": [
        "def main():\n",
        "    # definindo\n",
        "    iteracoes             = [20, 50, 100]\n",
        "    n_particulas          = [50, 100]\n",
        "    execucoes             = 10\n",
        "    melhor_aptidao_global = math.inf\n",
        "    melhor_posicao_global = []\n",
        "    populacao             = []\n",
        "    resultados            = []\n",
        "\n",
        "    # velocidade inical aleatorio comum a todas particulas\n",
        "    velocidadeInicial     = [random.randint(-77, 77), random.randint(-77, 77)]\n",
        "\n",
        "    contPop = 0 # para 50 e depois 100 particulas para cada populacao\n",
        "    j = 0 # para cada iteracao\n",
        "\n",
        "    while execucoes > 0:                                                            # 10 execucoes\n",
        "        while contPop < 2:                                                          # 2 populacoes (50, 100)\n",
        "            # criando populacao com velocidade inicial igual e posicao aleatoria para cada particula\n",
        "            for i in range(0, n_particulas[contPop]):\n",
        "                populacao.append(Particula(velocidadeInicial))\n",
        "            iteracao = iteracoes[j]\n",
        "\n",
        "            while iteracao > 0:                                                     # criterio de parada (20, 50, 100)\n",
        "                for particula in populacao:\n",
        "                    particula.calcula_aptidao()\n",
        "\n",
        "                  # guardando a melhor aptidao global\n",
        "                    if melhor_aptidao_global > particula.aptidao:\n",
        "                        melhor_aptidao_global = particula.aptidao\n",
        "                        melhor_posicao_global = particula.pos\n",
        "\n",
        "                # atualizando velocidade e posicao local\n",
        "                for particula in populacao:\n",
        "                    particula.atualiza_velocidade(melhor_posicao_global)\n",
        "                    particula.atualiza_posicao()\n",
        "\n",
        "                iteracao -= 1\n",
        "                if iteracao == 0:\n",
        "                    resultados.append([n_particulas[contPop], iteracoes[j], melhor_posicao_global, melhor_aptidao_global])\n",
        "\n",
        "                    j += 1\n",
        "                    if j < 3:\n",
        "                        iteracao = iteracoes[j]\n",
        "                    else:\n",
        "                        j = 0\n",
        "            ### fim iteracoes\n",
        "\n",
        "            # nova populacao com 100 particulas\n",
        "            populacao.clear()\n",
        "            melhor_aptidao_global = math.inf\n",
        "            melhor_posicao_global = []\n",
        "            velocidadeInicial = [random.randint(-77, 77), random.randint(-77, 77)]\n",
        "            contPop += 1\n",
        "        contPop = 0\n",
        "        j = 0\n",
        "        execucoes -= 1\n",
        "\n",
        "    ### fim execucoes\n",
        "    show_resultado(resultados)\n",
        "\n",
        "\n",
        "if __name__ == \"__main__\":\n",
        "    main()"
      ],
      "execution_count": 18,
      "outputs": [
        {
          "output_type": "stream",
          "text": [
            "-----------------------TABELA-----------------------\n",
            "EXECUÇÃO |   MELHOR   |    MÉDIA   | DESVIO PADRÃO \n",
            "   01    |  -794.047  |  -770.307  |    26.006  \n",
            "   02    |  -930.765  |  -891.123  |    43.425  \n",
            "   03    |  -786.108  |  -696.687  |    97.956  \n",
            "   04    |  -810.239  |  -726.886  |    91.309  \n",
            "   05    |  -650.754  |  -624.134  |    29.160  \n",
            "   06    |  -792.694  |  -689.586  |    112.949  \n",
            "   07    |  -704.725  |  -686.725  |    19.718  \n",
            "   08    |  -867.942  |  -767.101  |    110.466  \n",
            "   09    |  -701.201  |  -675.951  |    27.660  \n",
            "   10    |  -952.575  |  -879.891  |    79.621  \n"
          ],
          "name": "stdout"
        },
        {
          "output_type": "display_data",
          "data": {
            "image/png": "[encoded data removed]",
            "text/plain": [
              "<Figure size 432x288 with 1 Axes>"
            ]
          },
          "metadata": {
            "tags": [],
            "needs_background": "light"
          }
        }
      ]
    }
  ]
}